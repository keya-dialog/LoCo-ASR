{
 "cells": [
  {
   "cell_type": "code",
   "execution_count": 1,
   "id": "2e67a9ca",
   "metadata": {},
   "outputs": [],
   "source": [
    "import sys\n",
    "sys.path.append('../')\n",
    "\n",
    "from map_speecht5_hf import Mapping\n",
    "import torch\n",
    "from transformers import SpeechT5ForSpeechToText, SpeechT5ForTextToSpeech\n",
    "\n",
    "import os\n",
    "import pickle"
   ]
  },
  {
   "cell_type": "code",
   "execution_count": 2,
   "id": "2991b5e4",
   "metadata": {},
   "outputs": [
    {
     "data": {
      "text/plain": [
       "device(type='cuda')"
      ]
     },
     "execution_count": 2,
     "metadata": {},
     "output_type": "execute_result"
    }
   ],
   "source": [
    "device = torch.device(\"cuda\" if torch.cuda.is_available() else \"cpu\")\n",
    "device"
   ]
  },
  {
   "cell_type": "code",
   "execution_count": 3,
   "id": "13216c74",
   "metadata": {},
   "outputs": [],
   "source": [
    "model_asr = SpeechT5ForSpeechToText.from_pretrained(\"microsoft/speecht5_asr\").to(device)\n",
    "model_tts = SpeechT5ForTextToSpeech.from_pretrained(\"microsoft/speecht5_tts\").to(device)"
   ]
  },
  {
   "cell_type": "code",
   "execution_count": 4,
   "id": "9cc544b8",
   "metadata": {},
   "outputs": [],
   "source": [
    "ckpt = torch.load(\"../checkpoints/speecht5_base.pt\", map_location=device)"
   ]
  },
  {
   "cell_type": "code",
   "execution_count": 5,
   "id": "8afbbb3a",
   "metadata": {
    "scrolled": false
   },
   "outputs": [],
   "source": [
    "mapping_class = Mapping(model_asr, model_tts, ckpt)"
   ]
  },
  {
   "cell_type": "markdown",
   "id": "da647a66",
   "metadata": {},
   "source": [
    "## Encoder"
   ]
  },
  {
   "cell_type": "code",
   "execution_count": 6,
   "id": "0cdf47d1",
   "metadata": {
    "scrolled": true
   },
   "outputs": [],
   "source": [
    "encoder_state_dict = mapping_class.encoder_state_dict"
   ]
  },
  {
   "cell_type": "code",
   "execution_count": 7,
   "id": "6a477224",
   "metadata": {},
   "outputs": [
    {
     "data": {
      "text/plain": [
       "<All keys matched successfully>"
      ]
     },
     "execution_count": 7,
     "metadata": {},
     "output_type": "execute_result"
    }
   ],
   "source": [
    "model_asr.speecht5.encoder.wrapped_encoder.load_state_dict(encoder_state_dict)"
   ]
  },
  {
   "cell_type": "code",
   "execution_count": 9,
   "id": "6bb8eb98",
   "metadata": {},
   "outputs": [],
   "source": [
    "mapping_folder = \"../extracted/speecht5/mapping/\"\n",
    "if not os.path.exists(mapping_folder):\n",
    "    os.makedirs(embeddings_folder)\n",
    "\n",
    "with open(os.path.join(mapping_folder, 'encoder_state_dict.pickle'), 'wb') as handle:\n",
    "    pickle.dump(encoder_state_dict, handle, protocol=pickle.HIGHEST_PROTOCOL)"
   ]
  },
  {
   "cell_type": "markdown",
   "id": "d3cfb555",
   "metadata": {},
   "source": [
    "## Speech Pre-net"
   ]
  },
  {
   "cell_type": "code",
   "execution_count": 8,
   "id": "1f4239fd",
   "metadata": {},
   "outputs": [],
   "source": [
    "speech_prenet_state_dict = mapping_class.speech_prenet_state_dict"
   ]
  },
  {
   "cell_type": "code",
   "execution_count": 9,
   "id": "ce81e96d",
   "metadata": {},
   "outputs": [
    {
     "data": {
      "text/plain": [
       "<All keys matched successfully>"
      ]
     },
     "execution_count": 9,
     "metadata": {},
     "output_type": "execute_result"
    }
   ],
   "source": [
    "model_asr.speecht5.encoder.prenet.load_state_dict(speech_prenet_state_dict)"
   ]
  },
  {
   "cell_type": "code",
   "execution_count": 12,
   "id": "ca2a751d",
   "metadata": {},
   "outputs": [],
   "source": [
    "mapping_folder = \"../extracted/speecht5/mapping/\"\n",
    "if not os.path.exists(mapping_folder):\n",
    "    os.makedirs(embeddings_folder)\n",
    "\n",
    "with open(os.path.join(mapping_folder, 'speech_prenet_state_dict.pickle'), 'wb') as handle:\n",
    "    pickle.dump(speech_prenet_state_dict, handle, protocol=pickle.HIGHEST_PROTOCOL)"
   ]
  },
  {
   "cell_type": "markdown",
   "id": "cd288a13",
   "metadata": {},
   "source": [
    "## Text Pre-net"
   ]
  },
  {
   "cell_type": "code",
   "execution_count": 10,
   "id": "0cdb4e35",
   "metadata": {},
   "outputs": [],
   "source": [
    "text_prenet_state_dict = mapping_class.text_prenet_state_dict"
   ]
  },
  {
   "cell_type": "code",
   "execution_count": 11,
   "id": "ec43853c",
   "metadata": {},
   "outputs": [
    {
     "data": {
      "text/plain": [
       "<All keys matched successfully>"
      ]
     },
     "execution_count": 11,
     "metadata": {},
     "output_type": "execute_result"
    }
   ],
   "source": [
    "model_tts.speecht5.encoder.prenet.load_state_dict(text_prenet_state_dict)"
   ]
  },
  {
   "cell_type": "code",
   "execution_count": 12,
   "id": "1e3d4cbc",
   "metadata": {},
   "outputs": [],
   "source": [
    "mapping_folder = \"../extracted/speecht5/mapping/\"\n",
    "if not os.path.exists(mapping_folder):\n",
    "    os.makedirs(embeddings_folder)\n",
    "\n",
    "with open(os.path.join(mapping_folder, 'text_prenet_state_dict.pickle'), 'wb') as handle:\n",
    "    pickle.dump(text_prenet_state_dict, handle, protocol=pickle.HIGHEST_PROTOCOL)"
   ]
  },
  {
   "cell_type": "code",
   "execution_count": null,
   "id": "4ddb5473",
   "metadata": {},
   "outputs": [],
   "source": []
  }
 ],
 "metadata": {
  "kernelspec": {
   "display_name": "Python 3 (ipykernel)",
   "language": "python",
   "name": "python3"
  },
  "language_info": {
   "codemirror_mode": {
    "name": "ipython",
    "version": 3
   },
   "file_extension": ".py",
   "mimetype": "text/x-python",
   "name": "python",
   "nbconvert_exporter": "python",
   "pygments_lexer": "ipython3",
   "version": "3.9.16"
  }
 },
 "nbformat": 4,
 "nbformat_minor": 5
}
