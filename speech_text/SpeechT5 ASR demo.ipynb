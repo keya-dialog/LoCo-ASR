{
 "cells": [
  {
   "cell_type": "code",
   "execution_count": 1,
   "id": "49499b24",
   "metadata": {},
   "outputs": [],
   "source": [
    "from transformers import pipeline\n",
    "from datasets import load_dataset"
   ]
  },
  {
   "cell_type": "code",
   "execution_count": 2,
   "id": "bcd643b8",
   "metadata": {},
   "outputs": [],
   "source": [
    "generator = pipeline(task=\"automatic-speech-recognition\", model=\"microsoft/speecht5_asr\")"
   ]
  },
  {
   "cell_type": "code",
   "execution_count": 3,
   "id": "b4315faf",
   "metadata": {},
   "outputs": [
    {
     "name": "stderr",
     "output_type": "stream",
     "text": [
      "Found cached dataset librispeech_asr_demo (/export/home/lium/bdos/.cache/huggingface/datasets/hf-internal-testing___librispeech_asr_demo/clean/2.1.0/d3bc4c2bc2078fcde3ad0f0f635862e4c0fef78ba94c4a34c4c250a097af240b)\n"
     ]
    }
   ],
   "source": [
    "dataset = load_dataset(\"hf-internal-testing/librispeech_asr_demo\", \"clean\", split=\"validation\")\n",
    "dataset = dataset.sort(\"id\")\n",
    "example = dataset[40]"
   ]
  },
  {
   "cell_type": "code",
   "execution_count": 4,
   "id": "04814c00",
   "metadata": {},
   "outputs": [
    {
     "name": "stderr",
     "output_type": "stream",
     "text": [
      "/export/home/lium/bdos/miniconda3/envs/transf/lib/python3.9/site-packages/transformers/generation/utils.py:1353: UserWarning: Using `max_length`'s default (450) to control the generation length. This behaviour is deprecated and will be removed from the config in v5 of Transformers -- we recommend using `max_new_tokens` to control the maximum length of the generation.\n",
      "  warnings.warn(\n"
     ]
    }
   ],
   "source": [
    "transcription = generator(example[\"audio\"][\"array\"])"
   ]
  },
  {
   "cell_type": "code",
   "execution_count": 5,
   "id": "e36aa4f3",
   "metadata": {},
   "outputs": [
    {
     "data": {
      "text/plain": [
       "{'text': 'a man said to the universe sir i exist'}"
      ]
     },
     "execution_count": 5,
     "metadata": {},
     "output_type": "execute_result"
    }
   ],
   "source": [
    "transcription"
   ]
  },
  {
   "cell_type": "markdown",
   "id": "c07dcb01",
   "metadata": {},
   "source": [
    "## Alternative"
   ]
  },
  {
   "cell_type": "code",
   "execution_count": 6,
   "id": "de83f5dc",
   "metadata": {},
   "outputs": [],
   "source": [
    "from transformers import SpeechT5Processor, SpeechT5ForSpeechToText\n",
    "\n",
    "processor = SpeechT5Processor.from_pretrained(\"microsoft/speecht5_asr\")\n",
    "model = SpeechT5ForSpeechToText.from_pretrained(\"microsoft/speecht5_asr\")"
   ]
  },
  {
   "cell_type": "code",
   "execution_count": 7,
   "id": "af9fd4ec",
   "metadata": {},
   "outputs": [],
   "source": [
    "sampling_rate = dataset.features[\"audio\"].sampling_rate\n",
    "inputs = processor(audio=example[\"audio\"][\"array\"], sampling_rate=sampling_rate, return_tensors=\"pt\")"
   ]
  },
  {
   "cell_type": "code",
   "execution_count": 8,
   "id": "24bb8689",
   "metadata": {},
   "outputs": [],
   "source": [
    "predicted_ids = model.generate(**inputs, max_length=100)\n",
    "transcription = processor.batch_decode(predicted_ids, skip_special_tokens=True)"
   ]
  },
  {
   "cell_type": "code",
   "execution_count": 9,
   "id": "ac44fe17",
   "metadata": {},
   "outputs": [
    {
     "data": {
      "text/plain": [
       "['a man said to the universe sir i exist']"
      ]
     },
     "execution_count": 9,
     "metadata": {},
     "output_type": "execute_result"
    }
   ],
   "source": [
    "transcription"
   ]
  },
  {
   "cell_type": "code",
   "execution_count": null,
   "id": "0f6cefea",
   "metadata": {},
   "outputs": [],
   "source": []
  }
 ],
 "metadata": {
  "kernelspec": {
   "display_name": "Python 3 (ipykernel)",
   "language": "python",
   "name": "python3"
  },
  "language_info": {
   "codemirror_mode": {
    "name": "ipython",
    "version": 3
   },
   "file_extension": ".py",
   "mimetype": "text/x-python",
   "name": "python",
   "nbconvert_exporter": "python",
   "pygments_lexer": "ipython3",
   "version": "3.9.16"
  }
 },
 "nbformat": 4,
 "nbformat_minor": 5
}
