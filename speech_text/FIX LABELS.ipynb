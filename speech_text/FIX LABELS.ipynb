{
 "cells": [
  {
   "cell_type": "code",
   "execution_count": 1,
   "id": "5ca5ea74",
   "metadata": {},
   "outputs": [
    {
     "name": "stdout",
     "output_type": "stream",
     "text": [
      "Mon Jul 24 10:35:31 2023       \r\n",
      "+-----------------------------------------------------------------------------+\r\n",
      "| NVIDIA-SMI 495.29.05    Driver Version: 495.29.05    CUDA Version: 11.5     |\r\n",
      "|-------------------------------+----------------------+----------------------+\r\n",
      "| GPU  Name        Persistence-M| Bus-Id        Disp.A | Volatile Uncorr. ECC |\r\n",
      "| Fan  Temp  Perf  Pwr:Usage/Cap|         Memory-Usage | GPU-Util  Compute M. |\r\n",
      "|                               |                      |               MIG M. |\r\n",
      "|===============================+======================+======================|\r\n",
      "|   0  Quadro RTX 6000     On   | 00000000:3B:00.0 Off |                    0 |\r\n",
      "| N/A   23C    P8    13W / 250W |      0MiB / 22698MiB |      0%   E. Process |\r\n",
      "|                               |                      |                  N/A |\r\n",
      "+-------------------------------+----------------------+----------------------+\r\n",
      "                                                                               \r\n",
      "+-----------------------------------------------------------------------------+\r\n",
      "| Processes:                                                                  |\r\n",
      "|  GPU   GI   CI        PID   Type   Process name                  GPU Memory |\r\n",
      "|        ID   ID                                                   Usage      |\r\n",
      "|=============================================================================|\r\n",
      "|  No running processes found                                                 |\r\n",
      "+-----------------------------------------------------------------------------+\r\n"
     ]
    }
   ],
   "source": [
    "!nvidia-smi #RTX 6000 "
   ]
  },
  {
   "cell_type": "code",
   "execution_count": null,
   "id": "fa54f3cf",
   "metadata": {},
   "outputs": [],
   "source": [
    "!nvidia-smi #RTX 6000 "
   ]
  },
  {
   "cell_type": "code",
   "execution_count": 1,
   "id": "e80f5e54",
   "metadata": {},
   "outputs": [],
   "source": [
    "from slurp_data import SLURPDataset"
   ]
  },
  {
   "cell_type": "code",
   "execution_count": 2,
   "id": "d483bc88",
   "metadata": {},
   "outputs": [],
   "source": [
    "#slurp_dataset = SLURPDataset(\"slurp\", mode=\"train\", task=\"intent\")"
   ]
  },
  {
   "cell_type": "code",
   "execution_count": 3,
   "id": "d89f374a",
   "metadata": {},
   "outputs": [
    {
     "data": {
      "text/plain": [
       "(11514, 91)"
      ]
     },
     "execution_count": 3,
     "metadata": {},
     "output_type": "execute_result"
    }
   ],
   "source": [
    "#len(slurp_dataset), len(slurp_dataset.intents)"
   ]
  },
  {
   "cell_type": "code",
   "execution_count": 2,
   "id": "71454e23",
   "metadata": {},
   "outputs": [
    {
     "data": {
      "text/plain": [
       "91"
      ]
     },
     "execution_count": 2,
     "metadata": {},
     "output_type": "execute_result"
    }
   ],
   "source": [
    "from intent_classes import _CLASSES\n",
    "len(_CLASSES)"
   ]
  },
  {
   "cell_type": "code",
   "execution_count": 3,
   "id": "450f4e72",
   "metadata": {},
   "outputs": [],
   "source": [
    "slurp_synthetic_dataset = SLURPDataset(\"slurp\", mode=\"train_synthetic\", task=\"intent\")"
   ]
  },
  {
   "cell_type": "code",
   "execution_count": 4,
   "id": "180139d2",
   "metadata": {},
   "outputs": [
    {
     "data": {
      "text/plain": [
       "(19711, 98)"
      ]
     },
     "execution_count": 4,
     "metadata": {},
     "output_type": "execute_result"
    }
   ],
   "source": [
    "len(slurp_synthetic_dataset), len(slurp_synthetic_dataset.intents)"
   ]
  },
  {
   "cell_type": "code",
   "execution_count": 5,
   "id": "a5df10f7",
   "metadata": {},
   "outputs": [
    {
     "name": "stdout",
     "output_type": "stream",
     "text": [
      "88\n",
      "88\n"
     ]
    }
   ],
   "source": [
    "c = sum(el in slurp_synthetic_dataset.intents for el in _CLASSES)\n",
    "print(c)\n",
    "d = sum(el in _CLASSES for el in slurp_synthetic_dataset.intents)\n",
    "print(d)"
   ]
  },
  {
   "cell_type": "code",
   "execution_count": 6,
   "id": "7ac2ece2",
   "metadata": {},
   "outputs": [
    {
     "name": "stdout",
     "output_type": "stream",
     "text": [
      "3\n",
      "10\n"
     ]
    }
   ],
   "source": [
    "c = sum(el not in slurp_synthetic_dataset.intents for el in _CLASSES)\n",
    "print(c)\n",
    "d = sum(el not in _CLASSES for el in slurp_synthetic_dataset.intents)\n",
    "print(d)"
   ]
  },
  {
   "cell_type": "code",
   "execution_count": 7,
   "id": "1680619e",
   "metadata": {},
   "outputs": [],
   "source": [
    "combined = _CLASSES + slurp_synthetic_dataset.intents"
   ]
  },
  {
   "cell_type": "code",
   "execution_count": 8,
   "id": "72b2878d",
   "metadata": {},
   "outputs": [
    {
     "data": {
      "text/plain": [
       "189"
      ]
     },
     "execution_count": 8,
     "metadata": {},
     "output_type": "execute_result"
    }
   ],
   "source": [
    "len(combined)"
   ]
  },
  {
   "cell_type": "code",
   "execution_count": 9,
   "id": "2b9f28fc",
   "metadata": {},
   "outputs": [],
   "source": [
    "unique = set(combined)"
   ]
  },
  {
   "cell_type": "code",
   "execution_count": 10,
   "id": "a9eff0d1",
   "metadata": {},
   "outputs": [
    {
     "data": {
      "text/plain": [
       "101"
      ]
     },
     "execution_count": 10,
     "metadata": {},
     "output_type": "execute_result"
    }
   ],
   "source": [
    "len(unique)"
   ]
  },
  {
   "cell_type": "code",
   "execution_count": 11,
   "id": "6ffc76ca",
   "metadata": {},
   "outputs": [
    {
     "data": {
      "text/plain": [
       "{'addcontact',\n",
       " 'alarm_query',\n",
       " 'alarm_remove',\n",
       " 'alarm_set',\n",
       " 'audio_volume_down',\n",
       " 'audio_volume_mute',\n",
       " 'audio_volume_other',\n",
       " 'audio_volume_up',\n",
       " 'calendar_query',\n",
       " 'calendar_remove',\n",
       " 'calendar_set',\n",
       " 'cleaning',\n",
       " 'coffee',\n",
       " 'convert',\n",
       " 'cooking_query',\n",
       " 'cooking_recipe',\n",
       " 'createoradd',\n",
       " 'currency',\n",
       " 'datetime_convert',\n",
       " 'datetime_query',\n",
       " 'definition',\n",
       " 'email_addcontact',\n",
       " 'email_query',\n",
       " 'email_querycontact',\n",
       " 'email_sendemail',\n",
       " 'events',\n",
       " 'factoid',\n",
       " 'game',\n",
       " 'general_affirm',\n",
       " 'general_commandstop',\n",
       " 'general_confirm',\n",
       " 'general_dontcare',\n",
       " 'general_explain',\n",
       " 'general_greet',\n",
       " 'general_joke',\n",
       " 'general_negate',\n",
       " 'general_praise',\n",
       " 'general_quirky',\n",
       " 'general_repeat',\n",
       " 'greet',\n",
       " 'hue_lightdim',\n",
       " 'hue_lightoff',\n",
       " 'hue_lightup',\n",
       " 'iot_cleaning',\n",
       " 'iot_coffee',\n",
       " 'iot_hue_lightchange',\n",
       " 'iot_hue_lightdim',\n",
       " 'iot_hue_lightoff',\n",
       " 'iot_hue_lighton',\n",
       " 'iot_hue_lightup',\n",
       " 'iot_wemo_off',\n",
       " 'iot_wemo_on',\n",
       " 'joke',\n",
       " 'likeness',\n",
       " 'lists_createoradd',\n",
       " 'lists_query',\n",
       " 'lists_remove',\n",
       " 'locations',\n",
       " 'music',\n",
       " 'music_dislikeness',\n",
       " 'music_likeness',\n",
       " 'music_query',\n",
       " 'music_settings',\n",
       " 'news_query',\n",
       " 'play_audiobook',\n",
       " 'play_game',\n",
       " 'play_music',\n",
       " 'play_podcasts',\n",
       " 'play_radio',\n",
       " 'podcasts',\n",
       " 'post',\n",
       " 'qa_currency',\n",
       " 'qa_definition',\n",
       " 'qa_factoid',\n",
       " 'qa_maths',\n",
       " 'qa_stock',\n",
       " 'query',\n",
       " 'querycontact',\n",
       " 'quirky',\n",
       " 'radio',\n",
       " 'recommendation_events',\n",
       " 'recommendation_locations',\n",
       " 'recommendation_movies',\n",
       " 'remove',\n",
       " 'sendemail',\n",
       " 'set',\n",
       " 'settings',\n",
       " 'social_post',\n",
       " 'social_query',\n",
       " 'takeaway_order',\n",
       " 'takeaway_query',\n",
       " 'ticket',\n",
       " 'traffic',\n",
       " 'transport_query',\n",
       " 'transport_taxi',\n",
       " 'transport_ticket',\n",
       " 'transport_traffic',\n",
       " 'volume_other',\n",
       " 'weather_query',\n",
       " 'wemo_off',\n",
       " 'wemo_on'}"
      ]
     },
     "execution_count": 11,
     "metadata": {},
     "output_type": "execute_result"
    }
   ],
   "source": [
    "unique"
   ]
  },
  {
   "cell_type": "code",
   "execution_count": 12,
   "id": "b7d448d2",
   "metadata": {},
   "outputs": [
    {
     "data": {
      "text/plain": [
       "['audio_volume_mute',\n",
       " 'email_sendemail',\n",
       " 'transport_traffic',\n",
       " 'iot_wemo_off',\n",
       " 'play_podcasts',\n",
       " 'takeaway_query',\n",
       " 'general_explain',\n",
       " 'general_greet',\n",
       " 'definition',\n",
       " 'wemo_off',\n",
       " 'iot_hue_lightoff',\n",
       " 'lists_remove',\n",
       " 'podcasts',\n",
       " 'music_settings',\n",
       " 'audio_volume_down',\n",
       " 'general_repeat',\n",
       " 'locations',\n",
       " 'play_radio',\n",
       " 'recommendation_events',\n",
       " 'iot_cleaning',\n",
       " 'news_query',\n",
       " 'play_audiobook',\n",
       " 'createoradd',\n",
       " 'qa_factoid',\n",
       " 'general_praise',\n",
       " 'general_commandstop',\n",
       " 'alarm_query',\n",
       " 'addcontact',\n",
       " 'iot_hue_lightup',\n",
       " 'post',\n",
       " 'qa_definition',\n",
       " 'convert',\n",
       " 'music_likeness',\n",
       " 'hue_lightup',\n",
       " 'game',\n",
       " 'email_addcontact',\n",
       " 'querycontact',\n",
       " 'qa_maths',\n",
       " 'takeaway_order',\n",
       " 'greet',\n",
       " 'wemo_on',\n",
       " 'general_dontcare',\n",
       " 'music_query',\n",
       " 'likeness',\n",
       " 'music_dislikeness',\n",
       " 'qa_stock',\n",
       " 'alarm_set',\n",
       " 'email_query',\n",
       " 'cooking_recipe',\n",
       " 'datetime_query',\n",
       " 'alarm_remove',\n",
       " 'transport_taxi',\n",
       " 'iot_wemo_on',\n",
       " 'weather_query',\n",
       " 'music',\n",
       " 'coffee',\n",
       " 'joke',\n",
       " 'calendar_query',\n",
       " 'recommendation_locations',\n",
       " 'hue_lightdim',\n",
       " 'general_affirm',\n",
       " 'datetime_convert',\n",
       " 'traffic',\n",
       " 'radio',\n",
       " 'lists_query',\n",
       " 'social_post',\n",
       " 'social_query',\n",
       " 'set',\n",
       " 'iot_hue_lightchange',\n",
       " 'recommendation_movies',\n",
       " 'lists_createoradd',\n",
       " 'email_querycontact',\n",
       " 'qa_currency',\n",
       " 'play_game',\n",
       " 'iot_hue_lightdim',\n",
       " 'events',\n",
       " 'iot_coffee',\n",
       " 'sendemail',\n",
       " 'iot_hue_lighton',\n",
       " 'remove',\n",
       " 'currency',\n",
       " 'cooking_query',\n",
       " 'general_quirky',\n",
       " 'general_confirm',\n",
       " 'calendar_set',\n",
       " 'calendar_remove',\n",
       " 'settings',\n",
       " 'transport_query',\n",
       " 'general_joke',\n",
       " 'hue_lightoff',\n",
       " 'transport_ticket',\n",
       " 'quirky',\n",
       " 'play_music',\n",
       " 'factoid',\n",
       " 'audio_volume_other',\n",
       " 'audio_volume_up',\n",
       " 'query',\n",
       " 'general_negate']"
      ]
     },
     "execution_count": 12,
     "metadata": {},
     "output_type": "execute_result"
    }
   ],
   "source": [
    "slurp_synthetic_dataset.intents"
   ]
  },
  {
   "cell_type": "code",
   "execution_count": null,
   "id": "56acf8d9",
   "metadata": {},
   "outputs": [],
   "source": []
  }
 ],
 "metadata": {
  "kernelspec": {
   "display_name": "Python 3 (ipykernel)",
   "language": "python",
   "name": "python3"
  },
  "language_info": {
   "codemirror_mode": {
    "name": "ipython",
    "version": 3
   },
   "file_extension": ".py",
   "mimetype": "text/x-python",
   "name": "python",
   "nbconvert_exporter": "python",
   "pygments_lexer": "ipython3",
   "version": "3.9.16"
  }
 },
 "nbformat": 4,
 "nbformat_minor": 5
}
