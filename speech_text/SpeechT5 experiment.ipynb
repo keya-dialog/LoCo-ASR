{
 "cells": [
  {
   "cell_type": "code",
   "execution_count": 1,
   "id": "f659087d",
   "metadata": {},
   "outputs": [],
   "source": [
    "from transformers import SpeechT5Model, SpeechT5FeatureExtractor\n",
    "\n",
    "import numpy as np\n",
    "import torch\n",
    "from datasets import load_dataset\n",
    "from IPython.display import Audio, display\n",
    "\n",
    "from sklearn.decomposition import PCA\n",
    "import matplotlib.pyplot as plt\n",
    "from mpl_toolkits.mplot3d import Axes3D"
   ]
  },
  {
   "cell_type": "code",
   "execution_count": 2,
   "id": "6a843549",
   "metadata": {},
   "outputs": [],
   "source": [
    "class CommonVoiceDataset(torch.utils.data.Dataset):\n",
    "    def __init__(self, dataset):\n",
    "        self.dataset = dataset\n",
    "        \n",
    "    def __len__(self):\n",
    "        return len(self.dataset)\n",
    "    \n",
    "    def __getitem__(self, idx):\n",
    "        audio_array = self.dataset[idx]['audio']['array']\n",
    "        sampling_rate = self.dataset[idx]['audio']['sampling_rate']\n",
    "        sentence = self.dataset[idx]['sentence']\n",
    "\n",
    "        audio_tensor = torch.tensor(audio_array).float()\n",
    "        return audio_tensor, sampling_rate, sentence"
   ]
  },
  {
   "cell_type": "code",
   "execution_count": 3,
   "id": "bf345d99",
   "metadata": {},
   "outputs": [
    {
     "name": "stderr",
     "output_type": "stream",
     "text": [
      "Found cached dataset common_voice_11_0 (/export/home/lium/bdos/.cache/huggingface/datasets/mozilla-foundation___common_voice_11_0/en/11.0.0/3f27acf10f303eac5b6fbbbe02495aeddb46ecffdb0a2fe3507fcfbf89094631)\n"
     ]
    }
   ],
   "source": [
    "# Load dataset\n",
    "dataset = load_dataset(\"mozilla-foundation/common_voice_11_0\", \"en\", split='test')\n",
    "train_dataset = CommonVoiceDataset(dataset)"
   ]
  },
  {
   "cell_type": "code",
   "execution_count": null,
   "id": "90b66631",
   "metadata": {},
   "outputs": [],
   "source": []
  }
 ],
 "metadata": {
  "kernelspec": {
   "display_name": "Python 3 (ipykernel)",
   "language": "python",
   "name": "python3"
  },
  "language_info": {
   "codemirror_mode": {
    "name": "ipython",
    "version": 3
   },
   "file_extension": ".py",
   "mimetype": "text/x-python",
   "name": "python",
   "nbconvert_exporter": "python",
   "pygments_lexer": "ipython3",
   "version": "3.9.16"
  }
 },
 "nbformat": 4,
 "nbformat_minor": 5
}
