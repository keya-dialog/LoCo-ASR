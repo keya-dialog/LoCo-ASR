{
 "cells": [
  {
   "cell_type": "code",
   "execution_count": 1,
   "id": "e7de97f6",
   "metadata": {},
   "outputs": [],
   "source": [
    "import os\n",
    "import pickle\n",
    "import argparse\n",
    "\n",
    "import torch\n",
    "import torch.nn as nn\n",
    "\n",
    "from slurp_embeddings_and_targets import SLURPEmbeddingsTargets"
   ]
  },
  {
   "cell_type": "code",
   "execution_count": 2,
   "id": "dea1d15d",
   "metadata": {},
   "outputs": [
    {
     "name": "stdout",
     "output_type": "stream",
     "text": [
      "Running on cuda\n"
     ]
    }
   ],
   "source": [
    "device = torch.device(\"cuda\" if torch.cuda.is_available() else \"cpu\")\n",
    "print(\"Running on\", device)"
   ]
  },
  {
   "cell_type": "code",
   "execution_count": 3,
   "id": "bf247851",
   "metadata": {},
   "outputs": [],
   "source": [
    "folder = \"extracted/speecht5\"\n",
    "modality = \"text\"\n",
    "split = \"train\""
   ]
  },
  {
   "cell_type": "code",
   "execution_count": 4,
   "id": "6b919e8a",
   "metadata": {},
   "outputs": [],
   "source": [
    "train_set = SLURPEmbeddingsTargets(folder, modality, split)"
   ]
  },
  {
   "cell_type": "code",
   "execution_count": 5,
   "id": "b2f9a23f",
   "metadata": {},
   "outputs": [
    {
     "data": {
      "text/plain": [
       "11514"
      ]
     },
     "execution_count": 5,
     "metadata": {},
     "output_type": "execute_result"
    }
   ],
   "source": [
    "len(train_set)"
   ]
  },
  {
   "cell_type": "code",
   "execution_count": 7,
   "id": "b7147114",
   "metadata": {},
   "outputs": [
    {
     "ename": "AttributeError",
     "evalue": "'SLURPEmbeddingsTargets' object has no attribute 'intents'",
     "output_type": "error",
     "traceback": [
      "\u001b[0;31m---------------------------------------------------------------------------\u001b[0m",
      "\u001b[0;31mAttributeError\u001b[0m                            Traceback (most recent call last)",
      "Cell \u001b[0;32mIn[7], line 1\u001b[0m\n\u001b[0;32m----> 1\u001b[0m \u001b[38;5;28mlen\u001b[39m(\u001b[43mtrain_set\u001b[49m\u001b[38;5;241;43m.\u001b[39;49m\u001b[43mintents\u001b[49m)\n",
      "\u001b[0;31mAttributeError\u001b[0m: 'SLURPEmbeddingsTargets' object has no attribute 'intents'"
     ]
    }
   ],
   "source": [
    "len(train_set.intents)"
   ]
  },
  {
   "cell_type": "code",
   "execution_count": 8,
   "id": "0e24ea43",
   "metadata": {},
   "outputs": [],
   "source": [
    "from slurp_data import SLURPDataset"
   ]
  },
  {
   "cell_type": "code",
   "execution_count": 9,
   "id": "617e9a16",
   "metadata": {},
   "outputs": [],
   "source": [
    "slurp_dataset = SLURPDataset(\"slurp\", mode=\"train\", task=\"intent\")"
   ]
  },
  {
   "cell_type": "code",
   "execution_count": 10,
   "id": "025b99e2",
   "metadata": {},
   "outputs": [
    {
     "data": {
      "text/plain": [
       "11514"
      ]
     },
     "execution_count": 10,
     "metadata": {},
     "output_type": "execute_result"
    }
   ],
   "source": [
    "len(slurp_dataset)"
   ]
  },
  {
   "cell_type": "code",
   "execution_count": 11,
   "id": "ff8117fd",
   "metadata": {},
   "outputs": [
    {
     "data": {
      "text/plain": [
       "91"
      ]
     },
     "execution_count": 11,
     "metadata": {},
     "output_type": "execute_result"
    }
   ],
   "source": [
    "len(slurp_dataset.intents)"
   ]
  },
  {
   "cell_type": "code",
   "execution_count": 12,
   "id": "872aecca",
   "metadata": {},
   "outputs": [
    {
     "data": {
      "text/plain": [
       "['calendar_query',\n",
       " 'general_joke',\n",
       " 'music_settings',\n",
       " 'sendemail',\n",
       " 'music',\n",
       " 'hue_lightdim',\n",
       " 'lists_createoradd',\n",
       " 'music_query',\n",
       " 'play_podcasts',\n",
       " 'quirky',\n",
       " 'calendar_set',\n",
       " 'lists_query',\n",
       " 'music_dislikeness',\n",
       " 'datetime_convert',\n",
       " 'coffee',\n",
       " 'recommendation_movies',\n",
       " 'events',\n",
       " 'calendar_remove',\n",
       " 'currency',\n",
       " 'greet',\n",
       " 'iot_hue_lightoff',\n",
       " 'email_query',\n",
       " 'transport_traffic',\n",
       " 'takeaway_query',\n",
       " 'set',\n",
       " 'querycontact',\n",
       " 'transport_ticket',\n",
       " 'alarm_remove',\n",
       " 'wemo_on',\n",
       " 'hue_lightoff',\n",
       " 'iot_wemo_off',\n",
       " 'play_audiobook',\n",
       " 'qa_currency',\n",
       " 'news_query',\n",
       " 'play_radio',\n",
       " 'qa_factoid',\n",
       " 'traffic',\n",
       " 'qa_maths',\n",
       " 'createoradd',\n",
       " 'cleaning',\n",
       " 'joke',\n",
       " 'cooking_query',\n",
       " 'factoid',\n",
       " 'audio_volume_mute',\n",
       " 'radio',\n",
       " 'addcontact',\n",
       " 'query',\n",
       " 'audio_volume_up',\n",
       " 'definition',\n",
       " 'iot_hue_lightchange',\n",
       " 'wemo_off',\n",
       " 'iot_hue_lightup',\n",
       " 'general_greet',\n",
       " 'volume_other',\n",
       " 'podcasts',\n",
       " 'play_game',\n",
       " 'audio_volume_down',\n",
       " 'iot_cleaning',\n",
       " 'email_addcontact',\n",
       " 'ticket',\n",
       " 'datetime_query',\n",
       " 'iot_wemo_on',\n",
       " 'alarm_query',\n",
       " 'qa_stock',\n",
       " 'alarm_set',\n",
       " 'transport_query',\n",
       " 'email_querycontact',\n",
       " 'qa_definition',\n",
       " 'lists_remove',\n",
       " 'convert',\n",
       " 'hue_lightup',\n",
       " 'recommendation_locations',\n",
       " 'transport_taxi',\n",
       " 'email_sendemail',\n",
       " 'iot_hue_lightdim',\n",
       " 'audio_volume_other',\n",
       " 'settings',\n",
       " 'iot_coffee',\n",
       " 'takeaway_order',\n",
       " 'music_likeness',\n",
       " 'cooking_recipe',\n",
       " 'iot_hue_lighton',\n",
       " 'play_music',\n",
       " 'general_quirky',\n",
       " 'social_post',\n",
       " 'recommendation_events',\n",
       " 'post',\n",
       " 'social_query',\n",
       " 'weather_query',\n",
       " 'game',\n",
       " 'remove']"
      ]
     },
     "execution_count": 12,
     "metadata": {},
     "output_type": "execute_result"
    }
   ],
   "source": [
    "slurp_dataset.intents"
   ]
  },
  {
   "cell_type": "code",
   "execution_count": 6,
   "id": "85574c89",
   "metadata": {},
   "outputs": [],
   "source": [
    "slurp_id, embedding, target = test_set[0]"
   ]
  },
  {
   "cell_type": "code",
   "execution_count": 7,
   "id": "6a58e375",
   "metadata": {},
   "outputs": [
    {
     "data": {
      "text/plain": [
       "12717"
      ]
     },
     "execution_count": 7,
     "metadata": {},
     "output_type": "execute_result"
    }
   ],
   "source": [
    "slurp_id"
   ]
  },
  {
   "cell_type": "code",
   "execution_count": 8,
   "id": "7c877430",
   "metadata": {},
   "outputs": [
    {
     "data": {
      "text/plain": [
       "torch.Size([30, 768])"
      ]
     },
     "execution_count": 8,
     "metadata": {},
     "output_type": "execute_result"
    }
   ],
   "source": [
    "embedding.shape"
   ]
  },
  {
   "cell_type": "code",
   "execution_count": 9,
   "id": "3c323dc2",
   "metadata": {},
   "outputs": [
    {
     "data": {
      "text/plain": [
       "tensor([0, 0, 0, 0, 0, 0, 0, 0, 0, 0, 0, 0, 0, 0, 0, 0, 0, 0, 0, 0, 0, 0, 0, 0,\n",
       "        0, 0, 0, 0, 0, 0, 0, 0, 0, 0, 0, 0, 0, 0, 0, 0, 0, 0, 0, 0, 0, 0, 0, 0,\n",
       "        0, 0, 0, 0, 0, 0, 0, 0, 0, 0, 0, 0, 0, 0, 0, 0, 0, 0, 0, 0, 0, 0, 0, 0,\n",
       "        0, 0, 1, 0, 0])"
      ]
     },
     "execution_count": 9,
     "metadata": {},
     "output_type": "execute_result"
    }
   ],
   "source": [
    "target"
   ]
  },
  {
   "cell_type": "code",
   "execution_count": 3,
   "id": "32247b8d",
   "metadata": {},
   "outputs": [
    {
     "name": "stdout",
     "output_type": "stream",
     "text": [
      "torch.Size([1, 3, 5])\n",
      "tensor([[[ 1.,  2.,  3.,  4.,  5.],\n",
      "         [ 6.,  7.,  8.,  9., 10.],\n",
      "         [11., 12., 13., 14., 15.]]])\n"
     ]
    }
   ],
   "source": [
    "a = torch.tensor([[[1,2,3,4,5],[6,7,8,9,10],[11,12,13,14,15]]], dtype=torch.float32)\n",
    "print(a.shape)\n",
    "print(a)"
   ]
  },
  {
   "cell_type": "code",
   "execution_count": 4,
   "id": "54820001",
   "metadata": {},
   "outputs": [
    {
     "name": "stdout",
     "output_type": "stream",
     "text": [
      "torch.Size([1, 1, 5])\n",
      "tensor([[[ 6.,  7.,  8.,  9., 10.]]])\n"
     ]
    }
   ],
   "source": [
    "simple = torch.mean(a, dim=1, keepdim=True)\n",
    "print(simple.shape)\n",
    "print(simple)"
   ]
  },
  {
   "cell_type": "code",
   "execution_count": 5,
   "id": "a7e21cbf",
   "metadata": {},
   "outputs": [
    {
     "name": "stdout",
     "output_type": "stream",
     "text": [
      "torch.Size([1, 1, 5])\n",
      "tensor([[[11., 12., 13., 14., 15.]]])\n"
     ]
    }
   ],
   "source": [
    "b = torch.max(a, dim=1, keepdim=True).values\n",
    "print(b.shape)\n",
    "print(b)"
   ]
  },
  {
   "cell_type": "code",
   "execution_count": 6,
   "id": "7c91b25a",
   "metadata": {},
   "outputs": [],
   "source": [
    "self_attention = nn.MultiheadAttention(5, 1, batch_first=True)\n",
    "out, weights = self_attention(a,a,a)"
   ]
  },
  {
   "cell_type": "code",
   "execution_count": 7,
   "id": "6354790e",
   "metadata": {},
   "outputs": [
    {
     "data": {
      "text/plain": [
       "torch.Size([1, 3, 5])"
      ]
     },
     "execution_count": 7,
     "metadata": {},
     "output_type": "execute_result"
    }
   ],
   "source": [
    "out.shape"
   ]
  },
  {
   "cell_type": "code",
   "execution_count": 8,
   "id": "1664f85e",
   "metadata": {},
   "outputs": [
    {
     "data": {
      "text/plain": [
       "tensor([[[-7.0852, -3.5816, -2.0198,  8.8040, -1.0637],\n",
       "         [-7.0907, -3.5845, -2.0220,  8.8127, -1.0643],\n",
       "         [-7.0907, -3.5845, -2.0220,  8.8127, -1.0643]]],\n",
       "       grad_fn=<TransposeBackward0>)"
      ]
     },
     "execution_count": 8,
     "metadata": {},
     "output_type": "execute_result"
    }
   ],
   "source": [
    "out"
   ]
  },
  {
   "cell_type": "code",
   "execution_count": 9,
   "id": "73b5c3f4",
   "metadata": {},
   "outputs": [
    {
     "data": {
      "text/plain": [
       "torch.Size([1, 3, 3])"
      ]
     },
     "execution_count": 9,
     "metadata": {},
     "output_type": "execute_result"
    }
   ],
   "source": [
    "weights.shape"
   ]
  },
  {
   "cell_type": "code",
   "execution_count": 10,
   "id": "f81c2d9d",
   "metadata": {},
   "outputs": [
    {
     "data": {
      "text/plain": [
       "tensor([[[5.0034e-06, 2.2343e-03, 9.9776e-01],\n",
       "         [1.5852e-15, 3.9815e-08, 1.0000e+00],\n",
       "         [5.0113e-25, 7.0790e-13, 1.0000e+00]]], grad_fn=<MeanBackward1>)"
      ]
     },
     "execution_count": 10,
     "metadata": {},
     "output_type": "execute_result"
    }
   ],
   "source": [
    "weights"
   ]
  },
  {
   "cell_type": "code",
   "execution_count": null,
   "id": "06412b6c",
   "metadata": {},
   "outputs": [],
   "source": []
  },
  {
   "cell_type": "code",
   "execution_count": null,
   "id": "2eff0be7",
   "metadata": {},
   "outputs": [],
   "source": []
  },
  {
   "cell_type": "code",
   "execution_count": 23,
   "id": "04aabf77",
   "metadata": {},
   "outputs": [
    {
     "data": {
      "text/plain": [
       "torch.Size([1, 3, 5])"
      ]
     },
     "execution_count": 23,
     "metadata": {},
     "output_type": "execute_result"
    }
   ],
   "source": [
    "a.shape"
   ]
  },
  {
   "cell_type": "code",
   "execution_count": 12,
   "id": "83715db1",
   "metadata": {},
   "outputs": [
    {
     "data": {
      "text/plain": [
       "tensor([[[ 1.,  2.,  3.,  4.,  5.],\n",
       "         [ 6.,  7.,  8.,  9., 10.],\n",
       "         [11., 12., 13., 14., 15.]]])"
      ]
     },
     "execution_count": 12,
     "metadata": {},
     "output_type": "execute_result"
    }
   ],
   "source": [
    "a"
   ]
  },
  {
   "cell_type": "code",
   "execution_count": 24,
   "id": "50952610",
   "metadata": {},
   "outputs": [
    {
     "data": {
      "text/plain": [
       "torch.Size([3, 5])"
      ]
     },
     "execution_count": 24,
     "metadata": {},
     "output_type": "execute_result"
    }
   ],
   "source": [
    "aa = a.squeeze(0)\n",
    "aa.shape"
   ]
  },
  {
   "cell_type": "code",
   "execution_count": 35,
   "id": "e4731655",
   "metadata": {},
   "outputs": [
    {
     "data": {
      "text/plain": [
       "torch.Size([5, 3])"
      ]
     },
     "execution_count": 35,
     "metadata": {},
     "output_type": "execute_result"
    }
   ],
   "source": [
    "aa.T.shape"
   ]
  },
  {
   "cell_type": "code",
   "execution_count": 25,
   "id": "13dd7f98",
   "metadata": {},
   "outputs": [
    {
     "data": {
      "text/plain": [
       "torch.Size([1, 5])"
      ]
     },
     "execution_count": 25,
     "metadata": {},
     "output_type": "execute_result"
    }
   ],
   "source": [
    "q = torch.tensor([[0.1, 0.2, 0.3, 0.4, 0.5]], dtype=torch.float32)\n",
    "q.shape"
   ]
  },
  {
   "cell_type": "code",
   "execution_count": 26,
   "id": "1b12cc76",
   "metadata": {},
   "outputs": [
    {
     "data": {
      "text/plain": [
       "tensor([[0.1000, 0.2000, 0.3000, 0.4000, 0.5000]])"
      ]
     },
     "execution_count": 26,
     "metadata": {},
     "output_type": "execute_result"
    }
   ],
   "source": [
    "q"
   ]
  },
  {
   "cell_type": "code",
   "execution_count": 33,
   "id": "856cf9c4",
   "metadata": {},
   "outputs": [],
   "source": [
    "g = torch.matmul(q, aa.T)"
   ]
  },
  {
   "cell_type": "code",
   "execution_count": 34,
   "id": "9136eec2",
   "metadata": {},
   "outputs": [
    {
     "data": {
      "text/plain": [
       "torch.Size([1, 3])"
      ]
     },
     "execution_count": 34,
     "metadata": {},
     "output_type": "execute_result"
    }
   ],
   "source": [
    "g.shape"
   ]
  },
  {
   "cell_type": "code",
   "execution_count": 20,
   "id": "ef2513a3",
   "metadata": {},
   "outputs": [
    {
     "data": {
      "text/plain": [
       "torch.Size([5, 3, 1])"
      ]
     },
     "execution_count": 20,
     "metadata": {},
     "output_type": "execute_result"
    }
   ],
   "source": [
    "a.T.shape"
   ]
  },
  {
   "cell_type": "code",
   "execution_count": 38,
   "id": "ff963faf",
   "metadata": {},
   "outputs": [
    {
     "data": {
      "text/plain": [
       "torch.Size([1, 3])"
      ]
     },
     "execution_count": 38,
     "metadata": {},
     "output_type": "execute_result"
    }
   ],
   "source": [
    "z = nn.Softmax(dim=1)(g)\n",
    "z.shape"
   ]
  },
  {
   "cell_type": "code",
   "execution_count": 40,
   "id": "4dacaf21",
   "metadata": {},
   "outputs": [
    {
     "data": {
      "text/plain": [
       "torch.Size([1, 5])"
      ]
     },
     "execution_count": 40,
     "metadata": {},
     "output_type": "execute_result"
    }
   ],
   "source": [
    "new_x = torch.matmul(z, aa)\n",
    "new_x.shape"
   ]
  },
  {
   "cell_type": "code",
   "execution_count": 45,
   "id": "98fec836",
   "metadata": {},
   "outputs": [],
   "source": [
    "a = torch.cat([a,a])"
   ]
  },
  {
   "cell_type": "code",
   "execution_count": 46,
   "id": "a2c90f0f",
   "metadata": {},
   "outputs": [
    {
     "data": {
      "text/plain": [
       "(torch.Size([2, 3, 5]), torch.Size([1, 5]))"
      ]
     },
     "execution_count": 46,
     "metadata": {},
     "output_type": "execute_result"
    }
   ],
   "source": [
    "a.shape, q.shape"
   ]
  },
  {
   "cell_type": "code",
   "execution_count": 50,
   "id": "b5378168",
   "metadata": {},
   "outputs": [],
   "source": [
    "o1 = torch.matmul(a, q.T)"
   ]
  },
  {
   "cell_type": "code",
   "execution_count": 51,
   "id": "022683b5",
   "metadata": {},
   "outputs": [
    {
     "data": {
      "text/plain": [
       "torch.Size([2, 3, 1])"
      ]
     },
     "execution_count": 51,
     "metadata": {},
     "output_type": "execute_result"
    }
   ],
   "source": [
    "o1.shape"
   ]
  },
  {
   "cell_type": "code",
   "execution_count": 53,
   "id": "dce0c689",
   "metadata": {},
   "outputs": [
    {
     "data": {
      "text/plain": [
       "(tensor([[[ 5.5000],\n",
       "          [13.0000],\n",
       "          [20.5000]],\n",
       " \n",
       "         [[ 5.5000],\n",
       "          [13.0000],\n",
       "          [20.5000]]]),\n",
       " tensor([[ 5.5000, 13.0000, 20.5000]]))"
      ]
     },
     "execution_count": 53,
     "metadata": {},
     "output_type": "execute_result"
    }
   ],
   "source": [
    "o1, g"
   ]
  },
  {
   "cell_type": "code",
   "execution_count": 58,
   "id": "a4cddb30",
   "metadata": {},
   "outputs": [],
   "source": [
    "x2 = torch.matmul(o1.permute(0, 2, 1), a)"
   ]
  },
  {
   "cell_type": "code",
   "execution_count": 60,
   "id": "d2060d3b",
   "metadata": {},
   "outputs": [
    {
     "data": {
      "text/plain": [
       "torch.Size([2, 1, 5])"
      ]
     },
     "execution_count": 60,
     "metadata": {},
     "output_type": "execute_result"
    }
   ],
   "source": [
    "x2.shape"
   ]
  },
  {
   "cell_type": "code",
   "execution_count": 59,
   "id": "a71f48f7",
   "metadata": {},
   "outputs": [
    {
     "data": {
      "text/plain": [
       "(tensor([[[309., 348., 387., 426., 465.]],\n",
       " \n",
       "         [[309., 348., 387., 426., 465.]]]),\n",
       " tensor([[309., 348., 387., 426., 465.]]))"
      ]
     },
     "execution_count": 59,
     "metadata": {},
     "output_type": "execute_result"
    }
   ],
   "source": [
    "x2, (g@aa)"
   ]
  },
  {
   "cell_type": "code",
   "execution_count": null,
   "id": "f89c810d",
   "metadata": {},
   "outputs": [],
   "source": []
  }
 ],
 "metadata": {
  "kernelspec": {
   "display_name": "Python 3 (ipykernel)",
   "language": "python",
   "name": "python3"
  },
  "language_info": {
   "codemirror_mode": {
    "name": "ipython",
    "version": 3
   },
   "file_extension": ".py",
   "mimetype": "text/x-python",
   "name": "python",
   "nbconvert_exporter": "python",
   "pygments_lexer": "ipython3",
   "version": "3.9.16"
  }
 },
 "nbformat": 4,
 "nbformat_minor": 5
}
